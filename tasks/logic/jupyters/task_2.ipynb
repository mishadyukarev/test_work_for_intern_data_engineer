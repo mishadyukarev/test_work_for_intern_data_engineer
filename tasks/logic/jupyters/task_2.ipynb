{
 "cells": [
  {
   "cell_type": "code",
   "execution_count": 1,
   "outputs": [],
   "source": [
    "import os\n",
    "import sys\n",
    "from pyspark.sql import SparkSession\n",
    "from pyspark.sql.window import Window\n",
    "from pyspark.sql.functions import count, col\n",
    "\n",
    "os.environ['PYSPARK_PYTHON'] = sys.executable\n",
    "os.environ['PYSPARK_DRIVER_PYTHON'] = sys.executable\n",
    "\n",
    "spark = SparkSession.builder.getOrCreate()"
   ],
   "metadata": {
    "collapsed": false,
    "ExecuteTime": {
     "end_time": "2024-03-09T10:11:56.408994900Z",
     "start_time": "2024-03-09T10:11:04.593507200Z"
    }
   }
  },
  {
   "cell_type": "code",
   "execution_count": 2,
   "outputs": [
    {
     "name": "stdout",
     "output_type": "stream",
     "text": [
      "+---------+----------+----------+\n",
      "|  product|category_1|category_2|\n",
      "+---------+----------+----------+\n",
      "|Product A|Category 1|Category 3|\n",
      "|Product B|Category 2|Category 3|\n",
      "|Product C|Category 1|Category 4|\n",
      "|Product D|      null|      null|\n",
      "|Product E|Category 2|      null|\n",
      "+---------+----------+----------+\n",
      "\n"
     ]
    }
   ],
   "source": [
    "products = spark.createDataFrame([('Product A', 'Category 1', 'Category 3'),\n",
    "                                  ('Product B', 'Category 2', 'Category 3'),\n",
    "                                  ('Product C', 'Category 1', 'Category 4'),\n",
    "                                  ('Product D', None, None),\n",
    "                                  ('Product E', 'Category 2', None)],\n",
    "\n",
    "                                 ['product', 'category_1', 'category_2'])\n",
    "\n",
    "products.show()"
   ],
   "metadata": {
    "collapsed": false,
    "ExecuteTime": {
     "end_time": "2024-03-09T10:12:17.284475200Z",
     "start_time": "2024-03-09T10:11:56.409998300Z"
    }
   }
  },
  {
   "cell_type": "code",
   "execution_count": 3,
   "outputs": [
    {
     "name": "stdout",
     "output_type": "stream",
     "text": [
      "+---------+----------+\n",
      "|  product|  category|\n",
      "+---------+----------+\n",
      "|Product A|Category 1|\n",
      "|Product B|Category 2|\n",
      "|Product C|Category 1|\n",
      "|Product D|      null|\n",
      "|Product E|Category 2|\n",
      "|Product A|Category 3|\n",
      "|Product B|Category 3|\n",
      "|Product C|Category 4|\n",
      "|Product D|      null|\n",
      "|Product E|      null|\n",
      "+---------+----------+\n",
      "\n"
     ]
    }
   ],
   "source": [
    "result_df = products.select('product', 'category_1').union(products.select('product', 'category_2'))\n",
    "result_df = result_df.withColumnRenamed(\"category_1\", \"category\")\n",
    "result_df.show()"
   ],
   "metadata": {
    "collapsed": false,
    "ExecuteTime": {
     "end_time": "2024-03-09T10:12:51.099634300Z",
     "start_time": "2024-03-09T10:12:17.287473400Z"
    }
   }
  },
  {
   "cell_type": "code",
   "execution_count": 4,
   "outputs": [
    {
     "name": "stdout",
     "output_type": "stream",
     "text": [
      "+---------+----------+\n",
      "|  product|  category|\n",
      "+---------+----------+\n",
      "|Product A|Category 1|\n",
      "|Product B|Category 2|\n",
      "|Product C|Category 1|\n",
      "|Product D|      null|\n",
      "|Product E|Category 2|\n",
      "|Product A|Category 3|\n",
      "|Product B|Category 3|\n",
      "|Product C|Category 4|\n",
      "|Product E|      null|\n",
      "+---------+----------+\n",
      "\n"
     ]
    }
   ],
   "source": [
    "result_df = result_df.dropDuplicates()\n",
    "result_df.show()"
   ],
   "metadata": {
    "collapsed": false,
    "ExecuteTime": {
     "end_time": "2024-03-09T10:13:22.789664600Z",
     "start_time": "2024-03-09T10:12:51.104628600Z"
    }
   }
  },
  {
   "cell_type": "code",
   "execution_count": 5,
   "outputs": [
    {
     "name": "stdout",
     "output_type": "stream",
     "text": [
      "+---------+----------+\n",
      "|  product|  category|\n",
      "+---------+----------+\n",
      "|Product E|Category 2|\n",
      "|Product E|      null|\n",
      "|Product D|      null|\n",
      "|Product C|Category 4|\n",
      "|Product C|Category 1|\n",
      "|Product B|Category 3|\n",
      "|Product B|Category 2|\n",
      "|Product A|Category 3|\n",
      "|Product A|Category 1|\n",
      "+---------+----------+\n",
      "\n"
     ]
    }
   ],
   "source": [
    "result_df = result_df.sort([\"product\", 'category'], ascending=False)\n",
    "result_df.show()"
   ],
   "metadata": {
    "collapsed": false,
    "ExecuteTime": {
     "end_time": "2024-03-09T10:14:03.830855600Z",
     "start_time": "2024-03-09T10:13:22.792661300Z"
    }
   }
  },
  {
   "cell_type": "code",
   "execution_count": 6,
   "outputs": [
    {
     "name": "stdout",
     "output_type": "stream",
     "text": [
      "+---------+----------+-----+\n",
      "|  product|  category|count|\n",
      "+---------+----------+-----+\n",
      "|Product A|Category 3|    2|\n",
      "|Product A|Category 1|    2|\n",
      "|Product B|Category 3|    2|\n",
      "|Product B|Category 2|    2|\n",
      "|Product C|Category 4|    2|\n",
      "|Product C|Category 1|    2|\n",
      "|Product D|      null|    1|\n",
      "|Product E|Category 2|    2|\n",
      "|Product E|      null|    2|\n",
      "+---------+----------+-----+\n",
      "\n"
     ]
    }
   ],
   "source": [
    "window_spec = Window.partitionBy(\"product\")\n",
    "result_df = result_df.withColumn(\"count\", count(col(\"product\")).over(window_spec))\n",
    "result_df.show()"
   ],
   "metadata": {
    "collapsed": false,
    "ExecuteTime": {
     "end_time": "2024-03-09T10:14:41.989880500Z",
     "start_time": "2024-03-09T10:14:03.832857100Z"
    }
   }
  },
  {
   "cell_type": "code",
   "execution_count": 7,
   "outputs": [
    {
     "name": "stdout",
     "output_type": "stream",
     "text": [
      "+---------+----------+\n",
      "|  product|  category|\n",
      "+---------+----------+\n",
      "|Product A|Category 3|\n",
      "|Product A|Category 1|\n",
      "|Product B|Category 3|\n",
      "|Product B|Category 2|\n",
      "|Product C|Category 4|\n",
      "|Product C|Category 1|\n",
      "|Product D|      null|\n",
      "|Product E|Category 2|\n",
      "+---------+----------+\n",
      "\n"
     ]
    }
   ],
   "source": [
    "result_df = result_df.filter(\"NOT (count > 1 and category IS NULL)\")\n",
    "result_df = result_df.drop('count')\n",
    "result_df.show()"
   ],
   "metadata": {
    "collapsed": false,
    "ExecuteTime": {
     "end_time": "2024-03-09T10:15:13.769085200Z",
     "start_time": "2024-03-09T10:14:41.993833100Z"
    }
   }
  }
 ],
 "metadata": {
  "kernelspec": {
   "display_name": "Python 3",
   "language": "python",
   "name": "python3"
  },
  "language_info": {
   "codemirror_mode": {
    "name": "ipython",
    "version": 2
   },
   "file_extension": ".py",
   "mimetype": "text/x-python",
   "name": "python",
   "nbconvert_exporter": "python",
   "pygments_lexer": "ipython2",
   "version": "2.7.6"
  }
 },
 "nbformat": 4,
 "nbformat_minor": 0
}
