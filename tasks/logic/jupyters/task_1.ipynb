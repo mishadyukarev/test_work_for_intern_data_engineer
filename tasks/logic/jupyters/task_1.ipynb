{
 "cells": [
  {
   "cell_type": "code",
   "execution_count": 1,
   "outputs": [],
   "source": [
    "from tasks.logic.figure_calculator import *\n",
    "\n",
    "import random\n",
    "\n",
    "import time\n",
    "from selenium import webdriver\n",
    "from selenium.webdriver.common.by import By\n",
    "from selenium.webdriver.common.keys import Keys\n",
    "\n",
    "import seaborn as sns\n",
    "import pandas as pd"
   ],
   "metadata": {
    "collapsed": false,
    "ExecuteTime": {
     "end_time": "2024-03-09T10:10:32.921838Z",
     "start_time": "2024-03-09T10:10:32.568044Z"
    }
   }
  },
  {
   "cell_type": "code",
   "execution_count": 1,
   "outputs": [],
   "source": [],
   "metadata": {
    "collapsed": false,
    "ExecuteTime": {
     "end_time": "2024-03-09T10:10:32.922835600Z",
     "start_time": "2024-03-09T10:10:32.773008300Z"
    }
   }
  },
  {
   "cell_type": "code",
   "execution_count": 2,
   "outputs": [],
   "source": [
    "driver = webdriver.Chrome()"
   ],
   "metadata": {
    "collapsed": false,
    "ExecuteTime": {
     "end_time": "2024-03-09T10:10:34.751077900Z",
     "start_time": "2024-03-09T10:10:32.778013900Z"
    }
   }
  },
  {
   "cell_type": "code",
   "execution_count": 2,
   "outputs": [],
   "source": [],
   "metadata": {
    "collapsed": false,
    "ExecuteTime": {
     "end_time": "2024-03-09T10:10:34.762352600Z",
     "start_time": "2024-03-09T10:10:34.750084100Z"
    }
   }
  },
  {
   "cell_type": "code",
   "execution_count": 3,
   "outputs": [
    {
     "name": "stdout",
     "output_type": "stream",
     "text": [
      "Test number 1 ==> Right\n",
      "Test number 2 ==> Right\n",
      "Test number 3 ==> Right\n",
      "Test number 4 ==> Right\n",
      "Test number 5 ==> Right\n",
      "Test number 6 ==> Right\n",
      "Test number 7 ==> Right\n",
      "Test number 8 ==> Right\n",
      "Test number 9 ==> Right\n",
      "Test number 10 ==> Right\n",
      "Test number 11 ==> Right\n",
      "Test number 12 ==> Right\n",
      "Test number 13 ==> Right\n",
      "Test number 14 ==> Right\n",
      "Test number 15 ==> Right\n",
      "Test number 16 ==> Right\n",
      "Test number 17 ==> Right\n",
      "Test number 18 ==> Right\n",
      "Test number 19 ==> Right\n",
      "Test number 20 ==> Right\n"
     ]
    },
    {
     "data": {
      "text/plain": "    radius  calculated_area_by_algorithm  calculated_area_by_site  \\\n0      3.0                          28.0                     28.0   \n1      6.9                         150.0                    150.0   \n2      4.3                          58.0                     58.0   \n3      8.5                         227.0                    227.0   \n4      9.1                         260.0                    260.0   \n5      9.6                         290.0                    290.0   \n6      1.7                           9.0                      9.0   \n7      5.9                         109.0                    109.0   \n8      7.1                         158.0                    158.0   \n9      4.6                          66.0                     66.0   \n10     1.7                           9.0                      9.0   \n11     7.4                         172.0                    172.0   \n12     8.2                         211.0                    211.0   \n13     0.2                           0.0                      0.0   \n14     0.5                           1.0                      1.0   \n15     8.0                         201.0                    201.0   \n16     7.6                         181.0                    181.0   \n17     1.3                           5.0                      5.0   \n18     3.2                          32.0                     32.0   \n19     6.7                         141.0                    141.0   \n\n    is_right_answer  \n0              True  \n1              True  \n2              True  \n3              True  \n4              True  \n5              True  \n6              True  \n7              True  \n8              True  \n9              True  \n10             True  \n11             True  \n12             True  \n13             True  \n14             True  \n15             True  \n16             True  \n17             True  \n18             True  \n19             True  ",
      "text/html": "<div>\n<style scoped>\n    .dataframe tbody tr th:only-of-type {\n        vertical-align: middle;\n    }\n\n    .dataframe tbody tr th {\n        vertical-align: top;\n    }\n\n    .dataframe thead th {\n        text-align: right;\n    }\n</style>\n<table border=\"1\" class=\"dataframe\">\n  <thead>\n    <tr style=\"text-align: right;\">\n      <th></th>\n      <th>radius</th>\n      <th>calculated_area_by_algorithm</th>\n      <th>calculated_area_by_site</th>\n      <th>is_right_answer</th>\n    </tr>\n  </thead>\n  <tbody>\n    <tr>\n      <th>0</th>\n      <td>3.0</td>\n      <td>28.0</td>\n      <td>28.0</td>\n      <td>True</td>\n    </tr>\n    <tr>\n      <th>1</th>\n      <td>6.9</td>\n      <td>150.0</td>\n      <td>150.0</td>\n      <td>True</td>\n    </tr>\n    <tr>\n      <th>2</th>\n      <td>4.3</td>\n      <td>58.0</td>\n      <td>58.0</td>\n      <td>True</td>\n    </tr>\n    <tr>\n      <th>3</th>\n      <td>8.5</td>\n      <td>227.0</td>\n      <td>227.0</td>\n      <td>True</td>\n    </tr>\n    <tr>\n      <th>4</th>\n      <td>9.1</td>\n      <td>260.0</td>\n      <td>260.0</td>\n      <td>True</td>\n    </tr>\n    <tr>\n      <th>5</th>\n      <td>9.6</td>\n      <td>290.0</td>\n      <td>290.0</td>\n      <td>True</td>\n    </tr>\n    <tr>\n      <th>6</th>\n      <td>1.7</td>\n      <td>9.0</td>\n      <td>9.0</td>\n      <td>True</td>\n    </tr>\n    <tr>\n      <th>7</th>\n      <td>5.9</td>\n      <td>109.0</td>\n      <td>109.0</td>\n      <td>True</td>\n    </tr>\n    <tr>\n      <th>8</th>\n      <td>7.1</td>\n      <td>158.0</td>\n      <td>158.0</td>\n      <td>True</td>\n    </tr>\n    <tr>\n      <th>9</th>\n      <td>4.6</td>\n      <td>66.0</td>\n      <td>66.0</td>\n      <td>True</td>\n    </tr>\n    <tr>\n      <th>10</th>\n      <td>1.7</td>\n      <td>9.0</td>\n      <td>9.0</td>\n      <td>True</td>\n    </tr>\n    <tr>\n      <th>11</th>\n      <td>7.4</td>\n      <td>172.0</td>\n      <td>172.0</td>\n      <td>True</td>\n    </tr>\n    <tr>\n      <th>12</th>\n      <td>8.2</td>\n      <td>211.0</td>\n      <td>211.0</td>\n      <td>True</td>\n    </tr>\n    <tr>\n      <th>13</th>\n      <td>0.2</td>\n      <td>0.0</td>\n      <td>0.0</td>\n      <td>True</td>\n    </tr>\n    <tr>\n      <th>14</th>\n      <td>0.5</td>\n      <td>1.0</td>\n      <td>1.0</td>\n      <td>True</td>\n    </tr>\n    <tr>\n      <th>15</th>\n      <td>8.0</td>\n      <td>201.0</td>\n      <td>201.0</td>\n      <td>True</td>\n    </tr>\n    <tr>\n      <th>16</th>\n      <td>7.6</td>\n      <td>181.0</td>\n      <td>181.0</td>\n      <td>True</td>\n    </tr>\n    <tr>\n      <th>17</th>\n      <td>1.3</td>\n      <td>5.0</td>\n      <td>5.0</td>\n      <td>True</td>\n    </tr>\n    <tr>\n      <th>18</th>\n      <td>3.2</td>\n      <td>32.0</td>\n      <td>32.0</td>\n      <td>True</td>\n    </tr>\n    <tr>\n      <th>19</th>\n      <td>6.7</td>\n      <td>141.0</td>\n      <td>141.0</td>\n      <td>True</td>\n    </tr>\n  </tbody>\n</table>\n</div>"
     },
     "execution_count": 3,
     "metadata": {},
     "output_type": "execute_result"
    }
   ],
   "source": [
    "driver.get(\"https://www.omnicalculator.com/math/area-of-a-circle\")\n",
    "elements = driver.find_elements(By.CLASS_NAME, 'CalculatorRow__input')\n",
    "\n",
    "results_dict = {'radius': [],\n",
    "                'calculated_area_by_algorithm': [],\n",
    "                'calculated_area_by_site': [],\n",
    "                'is_right_answer': []}\n",
    "\n",
    "for test_index in range(20):\n",
    "    radius = round(random.uniform(0.01, 10), 1)\n",
    "\n",
    "    for _ in range(5):\n",
    "        elements[0].send_keys(Keys.BACKSPACE)\n",
    "        time.sleep(0.01)\n",
    "\n",
    "    elements[0].send_keys(radius)\n",
    "\n",
    "    time.sleep(0.2)\n",
    "\n",
    "\n",
    "    circular = Circular(radius)\n",
    "\n",
    "    area_by_algorithm = round(circular.get_area(), 0)\n",
    "    area_by_site = round(float(elements[2].get_attribute('value')), 0)\n",
    "    is_right_answer = area_by_algorithm == area_by_site\n",
    "\n",
    "    results_dict['radius'].append(radius)\n",
    "    results_dict['calculated_area_by_algorithm'].append(area_by_algorithm)\n",
    "    results_dict['calculated_area_by_site'].append(area_by_site)\n",
    "    results_dict['is_right_answer'].append(is_right_answer)\n",
    "\n",
    "    print(f\"Test number {test_index+1} ==> {'Right' if is_right_answer else 'Wrong'}\")\n",
    "\n",
    "result_df = pd.DataFrame(results_dict)\n",
    "result_df"
   ],
   "metadata": {
    "collapsed": false,
    "ExecuteTime": {
     "end_time": "2024-03-09T10:11:18.805598600Z",
     "start_time": "2024-03-09T10:10:34.767672300Z"
    }
   }
  },
  {
   "cell_type": "code",
   "execution_count": 4,
   "outputs": [],
   "source": [
    "driver.get(\"https://www.omnicalculator.com/math/3-sides-triangle-area\")\n",
    "\n",
    "elements = driver.find_elements(By.CLASS_NAME, 'math-field')\n",
    "output_elements = driver.find_elements(By.CLASS_NAME, 'css-1jjfdab')"
   ],
   "metadata": {
    "collapsed": false,
    "ExecuteTime": {
     "end_time": "2024-03-09T10:11:22.893346300Z",
     "start_time": "2024-03-09T10:11:18.781562300Z"
    }
   }
  },
  {
   "cell_type": "code",
   "execution_count": 5,
   "outputs": [
    {
     "name": "stdout",
     "output_type": "stream",
     "text": [
      "Test number 1 ==> Right\n",
      "---> SUM OF TWO SIDE LENGTHS HAS TO EXCEED THE LENGTH OF THE THIRD SIDE <---\n",
      "Test number 2 ==> Right\n",
      "Test number 3 ==> Right\n",
      "---> SUM OF TWO SIDE LENGTHS HAS TO EXCEED THE LENGTH OF THE THIRD SIDE <---\n",
      "Test number 4 ==> Right\n",
      "Test number 5 ==> Right\n",
      "Test number 6 ==> Right\n",
      "Test number 7 ==> Right\n",
      "Test number 8 ==> Right\n",
      "Test number 9 ==> Right\n",
      "Test number 10 ==> Right\n",
      "---> SUM OF TWO SIDE LENGTHS HAS TO EXCEED THE LENGTH OF THE THIRD SIDE <---\n",
      "Test number 11 ==> Right\n",
      "Test number 12 ==> Right\n",
      "---> SUM OF TWO SIDE LENGTHS HAS TO EXCEED THE LENGTH OF THE THIRD SIDE <---\n",
      "Test number 13 ==> Right\n",
      "Test number 14 ==> Right\n",
      "Test number 15 ==> Right\n",
      "---> SUM OF TWO SIDE LENGTHS HAS TO EXCEED THE LENGTH OF THE THIRD SIDE <---\n",
      "Test number 16 ==> Right\n",
      "---> SUM OF TWO SIDE LENGTHS HAS TO EXCEED THE LENGTH OF THE THIRD SIDE <---\n",
      "Test number 17 ==> Right\n",
      "Test number 18 ==> Right\n",
      "---> SUM OF TWO SIDE LENGTHS HAS TO EXCEED THE LENGTH OF THE THIRD SIDE <---\n",
      "Test number 19 ==> Right\n",
      "---> SUM OF TWO SIDE LENGTHS HAS TO EXCEED THE LENGTH OF THE THIRD SIDE <---\n",
      "Test number 20 ==> Right\n",
      "Test number 21 ==> Right\n",
      "---> SUM OF TWO SIDE LENGTHS HAS TO EXCEED THE LENGTH OF THE THIRD SIDE <---\n",
      "Test number 22 ==> Right\n",
      "---> SUM OF TWO SIDE LENGTHS HAS TO EXCEED THE LENGTH OF THE THIRD SIDE <---\n",
      "Test number 23 ==> Right\n",
      "Test number 24 ==> Right\n",
      "---> SUM OF TWO SIDE LENGTHS HAS TO EXCEED THE LENGTH OF THE THIRD SIDE <---\n",
      "Test number 25 ==> Right\n",
      "---> SUM OF TWO SIDE LENGTHS HAS TO EXCEED THE LENGTH OF THE THIRD SIDE <---\n",
      "Test number 26 ==> Right\n",
      "---> SUM OF TWO SIDE LENGTHS HAS TO EXCEED THE LENGTH OF THE THIRD SIDE <---\n",
      "Test number 27 ==> Right\n",
      "---> SUM OF TWO SIDE LENGTHS HAS TO EXCEED THE LENGTH OF THE THIRD SIDE <---\n",
      "Test number 28 ==> Right\n",
      "---> SUM OF TWO SIDE LENGTHS HAS TO EXCEED THE LENGTH OF THE THIRD SIDE <---\n",
      "Test number 29 ==> Right\n",
      "Test number 30 ==> Right\n"
     ]
    },
    {
     "data": {
      "text/plain": "      side_1    side_2    side_3 triangle_type  calculated_area_by_algorithm  \\\n0   6.942683  2.799210  4.360345      STANDARD                      2.957642   \n1   1.033578  7.230857  9.751158  WRONG_BROKEN                     -1.000000   \n2   6.342708  5.538870  5.763372      STANDARD                     14.824265   \n3   0.789862  2.047581  5.067926  WRONG_BROKEN                     -1.000000   \n4   6.711793  3.206589  8.583293      STANDARD                      9.735021   \n5   3.632936  5.558334  7.538046      STANDARD                      9.581942   \n6   4.027367  6.673678  8.015255      STANDARD                     13.410377   \n7   2.969176  4.763144  6.735241      STANDARD                      6.164193   \n8   4.937710  6.652449  8.611374      STANDARD                     16.365858   \n9   5.164220  4.537429  9.425575      STANDARD                      5.402876   \n10  5.718648  2.080363  2.483460  WRONG_BROKEN                     -1.000000   \n11  4.582142  8.519928  4.818022      STANDARD                      8.456275   \n12  0.299528  2.054602  0.749019  WRONG_BROKEN                     -1.000000   \n13  7.844150  7.273024  3.226537      STANDARD                     11.724929   \n14  8.127504  3.747852  6.615503      STANDARD                     12.224400   \n15  7.333363  1.200353  9.581422  WRONG_BROKEN                     -1.000000   \n16  8.554333  4.955930  2.108147  WRONG_BROKEN                     -1.000000   \n17  1.668322  4.093087  5.461294      STANDARD                      2.245183   \n18  6.965056  3.742281  0.174952  WRONG_BROKEN                     -1.000000   \n19  9.714775  6.871886  1.846208  WRONG_BROKEN                     -1.000000   \n20  3.200571  3.665912  6.725125      STANDARD                      2.324842   \n21  9.594724  4.851342  1.228927  WRONG_BROKEN                     -1.000000   \n22  7.326664  0.580376  7.965074  WRONG_BROKEN                     -1.000000   \n23  8.090007  9.029797  6.578531      STANDARD                     25.727464   \n24  5.319930  7.326552  1.587008  WRONG_BROKEN                     -1.000000   \n25  3.130745  2.268004  8.214716  WRONG_BROKEN                     -1.000000   \n26  0.077102  7.320022  3.924984  WRONG_BROKEN                     -1.000000   \n27  3.251023  4.338531  0.719004  WRONG_BROKEN                     -1.000000   \n28  1.423062  8.086177  6.284072  WRONG_BROKEN                     -1.000000   \n29  7.075738  6.832639  6.133973      STANDARD                     19.127068   \n\n   calculated_area_by_site  is_right_answer  \n0                   2.9576             True  \n1                       -1             True  \n2                   14.824             True  \n3                       -1             True  \n4                    9.735             True  \n5                    9.582             True  \n6                    13.41             True  \n7                    6.164             True  \n8                   16.366             True  \n9                    5.403             True  \n10                      -1             True  \n11                   8.456             True  \n12                      -1             True  \n13                  11.725             True  \n14                  12.224             True  \n15                      -1             True  \n16                      -1             True  \n17                   2.245             True  \n18                      -1             True  \n19                      -1             True  \n20                   2.325             True  \n21                      -1             True  \n22                      -1             True  \n23                   25.73             True  \n24                      -1             True  \n25                      -1             True  \n26                      -1             True  \n27                      -1             True  \n28                      -1             True  \n29                  19.127             True  ",
      "text/html": "<div>\n<style scoped>\n    .dataframe tbody tr th:only-of-type {\n        vertical-align: middle;\n    }\n\n    .dataframe tbody tr th {\n        vertical-align: top;\n    }\n\n    .dataframe thead th {\n        text-align: right;\n    }\n</style>\n<table border=\"1\" class=\"dataframe\">\n  <thead>\n    <tr style=\"text-align: right;\">\n      <th></th>\n      <th>side_1</th>\n      <th>side_2</th>\n      <th>side_3</th>\n      <th>triangle_type</th>\n      <th>calculated_area_by_algorithm</th>\n      <th>calculated_area_by_site</th>\n      <th>is_right_answer</th>\n    </tr>\n  </thead>\n  <tbody>\n    <tr>\n      <th>0</th>\n      <td>6.942683</td>\n      <td>2.799210</td>\n      <td>4.360345</td>\n      <td>STANDARD</td>\n      <td>2.957642</td>\n      <td>2.9576</td>\n      <td>True</td>\n    </tr>\n    <tr>\n      <th>1</th>\n      <td>1.033578</td>\n      <td>7.230857</td>\n      <td>9.751158</td>\n      <td>WRONG_BROKEN</td>\n      <td>-1.000000</td>\n      <td>-1</td>\n      <td>True</td>\n    </tr>\n    <tr>\n      <th>2</th>\n      <td>6.342708</td>\n      <td>5.538870</td>\n      <td>5.763372</td>\n      <td>STANDARD</td>\n      <td>14.824265</td>\n      <td>14.824</td>\n      <td>True</td>\n    </tr>\n    <tr>\n      <th>3</th>\n      <td>0.789862</td>\n      <td>2.047581</td>\n      <td>5.067926</td>\n      <td>WRONG_BROKEN</td>\n      <td>-1.000000</td>\n      <td>-1</td>\n      <td>True</td>\n    </tr>\n    <tr>\n      <th>4</th>\n      <td>6.711793</td>\n      <td>3.206589</td>\n      <td>8.583293</td>\n      <td>STANDARD</td>\n      <td>9.735021</td>\n      <td>9.735</td>\n      <td>True</td>\n    </tr>\n    <tr>\n      <th>5</th>\n      <td>3.632936</td>\n      <td>5.558334</td>\n      <td>7.538046</td>\n      <td>STANDARD</td>\n      <td>9.581942</td>\n      <td>9.582</td>\n      <td>True</td>\n    </tr>\n    <tr>\n      <th>6</th>\n      <td>4.027367</td>\n      <td>6.673678</td>\n      <td>8.015255</td>\n      <td>STANDARD</td>\n      <td>13.410377</td>\n      <td>13.41</td>\n      <td>True</td>\n    </tr>\n    <tr>\n      <th>7</th>\n      <td>2.969176</td>\n      <td>4.763144</td>\n      <td>6.735241</td>\n      <td>STANDARD</td>\n      <td>6.164193</td>\n      <td>6.164</td>\n      <td>True</td>\n    </tr>\n    <tr>\n      <th>8</th>\n      <td>4.937710</td>\n      <td>6.652449</td>\n      <td>8.611374</td>\n      <td>STANDARD</td>\n      <td>16.365858</td>\n      <td>16.366</td>\n      <td>True</td>\n    </tr>\n    <tr>\n      <th>9</th>\n      <td>5.164220</td>\n      <td>4.537429</td>\n      <td>9.425575</td>\n      <td>STANDARD</td>\n      <td>5.402876</td>\n      <td>5.403</td>\n      <td>True</td>\n    </tr>\n    <tr>\n      <th>10</th>\n      <td>5.718648</td>\n      <td>2.080363</td>\n      <td>2.483460</td>\n      <td>WRONG_BROKEN</td>\n      <td>-1.000000</td>\n      <td>-1</td>\n      <td>True</td>\n    </tr>\n    <tr>\n      <th>11</th>\n      <td>4.582142</td>\n      <td>8.519928</td>\n      <td>4.818022</td>\n      <td>STANDARD</td>\n      <td>8.456275</td>\n      <td>8.456</td>\n      <td>True</td>\n    </tr>\n    <tr>\n      <th>12</th>\n      <td>0.299528</td>\n      <td>2.054602</td>\n      <td>0.749019</td>\n      <td>WRONG_BROKEN</td>\n      <td>-1.000000</td>\n      <td>-1</td>\n      <td>True</td>\n    </tr>\n    <tr>\n      <th>13</th>\n      <td>7.844150</td>\n      <td>7.273024</td>\n      <td>3.226537</td>\n      <td>STANDARD</td>\n      <td>11.724929</td>\n      <td>11.725</td>\n      <td>True</td>\n    </tr>\n    <tr>\n      <th>14</th>\n      <td>8.127504</td>\n      <td>3.747852</td>\n      <td>6.615503</td>\n      <td>STANDARD</td>\n      <td>12.224400</td>\n      <td>12.224</td>\n      <td>True</td>\n    </tr>\n    <tr>\n      <th>15</th>\n      <td>7.333363</td>\n      <td>1.200353</td>\n      <td>9.581422</td>\n      <td>WRONG_BROKEN</td>\n      <td>-1.000000</td>\n      <td>-1</td>\n      <td>True</td>\n    </tr>\n    <tr>\n      <th>16</th>\n      <td>8.554333</td>\n      <td>4.955930</td>\n      <td>2.108147</td>\n      <td>WRONG_BROKEN</td>\n      <td>-1.000000</td>\n      <td>-1</td>\n      <td>True</td>\n    </tr>\n    <tr>\n      <th>17</th>\n      <td>1.668322</td>\n      <td>4.093087</td>\n      <td>5.461294</td>\n      <td>STANDARD</td>\n      <td>2.245183</td>\n      <td>2.245</td>\n      <td>True</td>\n    </tr>\n    <tr>\n      <th>18</th>\n      <td>6.965056</td>\n      <td>3.742281</td>\n      <td>0.174952</td>\n      <td>WRONG_BROKEN</td>\n      <td>-1.000000</td>\n      <td>-1</td>\n      <td>True</td>\n    </tr>\n    <tr>\n      <th>19</th>\n      <td>9.714775</td>\n      <td>6.871886</td>\n      <td>1.846208</td>\n      <td>WRONG_BROKEN</td>\n      <td>-1.000000</td>\n      <td>-1</td>\n      <td>True</td>\n    </tr>\n    <tr>\n      <th>20</th>\n      <td>3.200571</td>\n      <td>3.665912</td>\n      <td>6.725125</td>\n      <td>STANDARD</td>\n      <td>2.324842</td>\n      <td>2.325</td>\n      <td>True</td>\n    </tr>\n    <tr>\n      <th>21</th>\n      <td>9.594724</td>\n      <td>4.851342</td>\n      <td>1.228927</td>\n      <td>WRONG_BROKEN</td>\n      <td>-1.000000</td>\n      <td>-1</td>\n      <td>True</td>\n    </tr>\n    <tr>\n      <th>22</th>\n      <td>7.326664</td>\n      <td>0.580376</td>\n      <td>7.965074</td>\n      <td>WRONG_BROKEN</td>\n      <td>-1.000000</td>\n      <td>-1</td>\n      <td>True</td>\n    </tr>\n    <tr>\n      <th>23</th>\n      <td>8.090007</td>\n      <td>9.029797</td>\n      <td>6.578531</td>\n      <td>STANDARD</td>\n      <td>25.727464</td>\n      <td>25.73</td>\n      <td>True</td>\n    </tr>\n    <tr>\n      <th>24</th>\n      <td>5.319930</td>\n      <td>7.326552</td>\n      <td>1.587008</td>\n      <td>WRONG_BROKEN</td>\n      <td>-1.000000</td>\n      <td>-1</td>\n      <td>True</td>\n    </tr>\n    <tr>\n      <th>25</th>\n      <td>3.130745</td>\n      <td>2.268004</td>\n      <td>8.214716</td>\n      <td>WRONG_BROKEN</td>\n      <td>-1.000000</td>\n      <td>-1</td>\n      <td>True</td>\n    </tr>\n    <tr>\n      <th>26</th>\n      <td>0.077102</td>\n      <td>7.320022</td>\n      <td>3.924984</td>\n      <td>WRONG_BROKEN</td>\n      <td>-1.000000</td>\n      <td>-1</td>\n      <td>True</td>\n    </tr>\n    <tr>\n      <th>27</th>\n      <td>3.251023</td>\n      <td>4.338531</td>\n      <td>0.719004</td>\n      <td>WRONG_BROKEN</td>\n      <td>-1.000000</td>\n      <td>-1</td>\n      <td>True</td>\n    </tr>\n    <tr>\n      <th>28</th>\n      <td>1.423062</td>\n      <td>8.086177</td>\n      <td>6.284072</td>\n      <td>WRONG_BROKEN</td>\n      <td>-1.000000</td>\n      <td>-1</td>\n      <td>True</td>\n    </tr>\n    <tr>\n      <th>29</th>\n      <td>7.075738</td>\n      <td>6.832639</td>\n      <td>6.133973</td>\n      <td>STANDARD</td>\n      <td>19.127068</td>\n      <td>19.127</td>\n      <td>True</td>\n    </tr>\n  </tbody>\n</table>\n</div>"
     },
     "execution_count": 5,
     "metadata": {},
     "output_type": "execute_result"
    }
   ],
   "source": [
    "results_dict = {'side_1': [], 'side_2': [], 'side_3': [],\n",
    "                'triangle_type': [],\n",
    "                'calculated_area_by_algorithm': [],\n",
    "                'calculated_area_by_site': [],\n",
    "                'is_right_answer': []}\n",
    "\n",
    "\n",
    "for test_index in range(30):\n",
    "    sides_l = [random.uniform(0.01, 10) for i in range(3)]\n",
    "\n",
    "    for element in elements:\n",
    "        element.clear()\n",
    "        time.sleep(0.01)\n",
    "\n",
    "    for side_index, side in enumerate(sides_l):\n",
    "        elements[side_index].send_keys(side)\n",
    "        time.sleep(0.01)\n",
    "\n",
    "    time.sleep(0.5)\n",
    "\n",
    "    right_area = output_elements[3].get_attribute('aria-label')\n",
    "    right_area = -1 if right_area == '' else right_area\n",
    "\n",
    "    triangle = Triangle(sides_l[0], sides_l[1], sides_l[2])\n",
    "\n",
    "\n",
    "    is_right_answer = True if round(float(right_area), 1) == round(triangle.get_area(), 1) else False\n",
    "\n",
    "    for i in range(3): results_dict[f'side_{i+1}'].append(sides_l[i])\n",
    "    results_dict['calculated_area_by_algorithm'].append(triangle.get_area())\n",
    "    results_dict['calculated_area_by_site'].append(-1 if right_area == '' else right_area)\n",
    "    results_dict['triangle_type'].append(triangle.get_triangle_type())\n",
    "    results_dict['is_right_answer'].append(is_right_answer)\n",
    "\n",
    "    print(f\"Test number {test_index+1} ==> {'Right' if is_right_answer else 'Wrong'}\")\n",
    "\n",
    "result_df = pd.DataFrame(results_dict)\n",
    "result_df"
   ],
   "metadata": {
    "collapsed": false,
    "ExecuteTime": {
     "end_time": "2024-03-09T10:12:23.342465800Z",
     "start_time": "2024-03-09T10:11:22.879334100Z"
    }
   }
  }
 ],
 "metadata": {
  "kernelspec": {
   "display_name": "Python 3",
   "language": "python",
   "name": "python3"
  },
  "language_info": {
   "codemirror_mode": {
    "name": "ipython",
    "version": 2
   },
   "file_extension": ".py",
   "mimetype": "text/x-python",
   "name": "python",
   "nbconvert_exporter": "python",
   "pygments_lexer": "ipython2",
   "version": "2.7.6"
  }
 },
 "nbformat": 4,
 "nbformat_minor": 0
}
