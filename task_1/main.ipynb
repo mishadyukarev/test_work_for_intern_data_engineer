{
 "cells": [
  {
   "cell_type": "code",
   "execution_count": 1,
   "outputs": [],
   "source": [
    "from task_1.logic.square_calculator import Triangle\n",
    "from task_1.logic.square_calculator import Circular\n",
    "\n",
    "import random"
   ],
   "metadata": {
    "collapsed": false,
    "ExecuteTime": {
     "end_time": "2024-03-08T10:39:43.967313400Z",
     "start_time": "2024-03-08T10:39:43.933775500Z"
    }
   }
  },
  {
   "cell_type": "code",
   "execution_count": 2,
   "outputs": [
    {
     "name": "stdout",
     "output_type": "stream",
     "text": [
      "Figure: CIRCULAR; \n",
      "Area: 78.53981633974483; \n",
      "Radius: 5;\n"
     ]
    }
   ],
   "source": [
    "radius = 5\n",
    "circular = Circular(radius)\n",
    "\n",
    "print(circular.__doc__())"
   ],
   "metadata": {
    "collapsed": false,
    "ExecuteTime": {
     "end_time": "2024-03-08T10:39:43.982305600Z",
     "start_time": "2024-03-08T10:39:43.970308600Z"
    }
   }
  },
  {
   "cell_type": "code",
   "execution_count": 3,
   "outputs": [
    {
     "name": "stdout",
     "output_type": "stream",
     "text": [
      "Test number 0\n",
      "Figure: TRIANGLE; \n",
      "Area: 1.1918861797775562; \n",
      "Triangle type: STANDARD\n",
      "Height: 0.7294011994631935;\n",
      "____________________________________________________________________________________________________\n",
      "Test number 1\n",
      "---> SUM OF TWO SIDE LENGTHS HAS TO EXCEED THE LENGTH OF THE THIRD SIDE <---\n",
      "Figure: TRIANGLE; \n",
      "Area: -1; \n",
      "Triangle type: WRONG_BROKEN\n",
      "____________________________________________________________________________________________________\n",
      "Test number 2\n",
      "---> SUM OF TWO SIDE LENGTHS HAS TO EXCEED THE LENGTH OF THE THIRD SIDE <---\n",
      "Figure: TRIANGLE; \n",
      "Area: -1; \n",
      "Triangle type: WRONG_BROKEN\n",
      "____________________________________________________________________________________________________\n",
      "Test number 3\n",
      "---> SUM OF TWO SIDE LENGTHS HAS TO EXCEED THE LENGTH OF THE THIRD SIDE <---\n",
      "Figure: TRIANGLE; \n",
      "Area: -1; \n",
      "Triangle type: WRONG_BROKEN\n",
      "____________________________________________________________________________________________________\n",
      "Test number 4\n",
      "Figure: TRIANGLE; \n",
      "Area: 8.220728589570795; \n",
      "Triangle type: STANDARD\n",
      "Height: 2.6701956819167476;\n",
      "____________________________________________________________________________________________________\n"
     ]
    }
   ],
   "source": [
    "for i in range(5):\n",
    "\n",
    "    print(f'Test number {i}')\n",
    "\n",
    "    side_1 = random.uniform(0.0001, 10)\n",
    "    side_2 = random.uniform(0.0001, 10)\n",
    "    side_3 = random.uniform(0.0001, 10)\n",
    "\n",
    "\n",
    "    triangle = Triangle(side_1, side_2, side_3)\n",
    "\n",
    "    print(triangle.__doc__())\n",
    "    print('_'*100)"
   ],
   "metadata": {
    "collapsed": false,
    "ExecuteTime": {
     "end_time": "2024-03-08T10:39:44.037427500Z",
     "start_time": "2024-03-08T10:39:43.985324700Z"
    }
   }
  },
  {
   "cell_type": "code",
   "execution_count": null,
   "outputs": [],
   "source": [],
   "metadata": {
    "collapsed": false
   }
  },
  {
   "cell_type": "code",
   "execution_count": 8,
   "outputs": [],
   "source": [
    "#import pandas as pd\n",
    "import time\n",
    "\n",
    "from selenium import webdriver\n",
    "from selenium.webdriver.common.by import By"
   ],
   "metadata": {
    "collapsed": false,
    "ExecuteTime": {
     "end_time": "2024-03-08T10:44:02.017689Z",
     "start_time": "2024-03-08T10:44:01.996159500Z"
    }
   }
  },
  {
   "cell_type": "code",
   "execution_count": 16,
   "outputs": [],
   "source": [
    "SITE_URL = \"https://www.omnicalculator.com/math/3-sides-triangle-area\""
   ],
   "metadata": {
    "collapsed": false,
    "ExecuteTime": {
     "end_time": "2024-03-08T10:46:46.383960200Z",
     "start_time": "2024-03-08T10:46:46.364952100Z"
    }
   }
  },
  {
   "cell_type": "code",
   "execution_count": null,
   "outputs": [],
   "source": [
    "driver = webdriver.Chrome(\"C:\\Program Files\\Google\\Chrome\\Application\\chrome.exe\")\n"
   ],
   "metadata": {
    "collapsed": false,
    "is_executing": true,
    "ExecuteTime": {
     "start_time": "2024-03-08T10:46:46.664727900Z"
    }
   }
  },
  {
   "cell_type": "code",
   "execution_count": null,
   "outputs": [],
   "source": [
    "driver.get(SITE_URL)"
   ],
   "metadata": {
    "collapsed": false,
    "is_executing": true
   }
  },
  {
   "cell_type": "code",
   "execution_count": null,
   "outputs": [],
   "source": [],
   "metadata": {
    "collapsed": false
   }
  }
 ],
 "metadata": {
  "kernelspec": {
   "display_name": "Python 3",
   "language": "python",
   "name": "python3"
  },
  "language_info": {
   "codemirror_mode": {
    "name": "ipython",
    "version": 2
   },
   "file_extension": ".py",
   "mimetype": "text/x-python",
   "name": "python",
   "nbconvert_exporter": "python",
   "pygments_lexer": "ipython2",
   "version": "2.7.6"
  }
 },
 "nbformat": 4,
 "nbformat_minor": 0
}
