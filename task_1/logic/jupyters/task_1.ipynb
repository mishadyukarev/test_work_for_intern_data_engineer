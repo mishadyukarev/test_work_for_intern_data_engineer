{
 "cells": [
  {
   "cell_type": "code",
   "execution_count": 1,
   "outputs": [],
   "source": [
    "from task_1.logic.figure_calculator import *\n",
    "\n",
    "import random\n",
    "\n",
    "import time\n",
    "from selenium import webdriver\n",
    "from selenium.webdriver.common.by import By\n",
    "from selenium.webdriver.common.keys import Keys\n",
    "\n",
    "import seaborn as sns\n",
    "import pandas as pd"
   ],
   "metadata": {
    "collapsed": false
   }
  },
  {
   "cell_type": "code",
   "execution_count": 1,
   "outputs": [],
   "source": [],
   "metadata": {
    "collapsed": false,
    "ExecuteTime": {
     "end_time": "2024-03-09T06:35:35.981733800Z",
     "start_time": "2024-03-09T06:35:35.962212800Z"
    }
   }
  },
  {
   "cell_type": "code",
   "execution_count": 2,
   "outputs": [],
   "source": [
    "driver = webdriver.Chrome()"
   ],
   "metadata": {
    "collapsed": false,
    "ExecuteTime": {
     "end_time": "2024-03-09T06:35:41.075894800Z",
     "start_time": "2024-03-09T06:35:36.400907700Z"
    }
   }
  },
  {
   "cell_type": "code",
   "execution_count": 2,
   "outputs": [],
   "source": [],
   "metadata": {
    "collapsed": false,
    "ExecuteTime": {
     "end_time": "2024-03-09T06:35:53.822393100Z",
     "start_time": "2024-03-09T06:35:53.809877900Z"
    }
   }
  },
  {
   "cell_type": "code",
   "execution_count": 4,
   "outputs": [
    {
     "name": "stdout",
     "output_type": "stream",
     "text": [
      "Test number 1 ==> Right\n",
      "Test number 2 ==> Right\n",
      "Test number 3 ==> Right\n",
      "Test number 4 ==> Right\n",
      "Test number 5 ==> Right\n",
      "Test number 6 ==> Right\n",
      "Test number 7 ==> Right\n",
      "Test number 8 ==> Right\n",
      "Test number 9 ==> Right\n",
      "Test number 10 ==> Right\n",
      "Test number 11 ==> Right\n",
      "Test number 12 ==> Right\n",
      "Test number 13 ==> Right\n",
      "Test number 14 ==> Right\n",
      "Test number 15 ==> Right\n",
      "Test number 16 ==> Right\n",
      "Test number 17 ==> Right\n",
      "Test number 18 ==> Right\n",
      "Test number 19 ==> Right\n",
      "Test number 20 ==> Right\n"
     ]
    },
    {
     "data": {
      "text/plain": "    radius  calculated_area_by_algorithm  calculated_area_by_site  \\\n0      6.4                         129.0                    129.0   \n1      3.0                          28.0                     28.0   \n2      8.5                         227.0                    227.0   \n3      4.9                          75.0                     75.0   \n4      4.5                          64.0                     64.0   \n5      1.6                           8.0                      8.0   \n6      8.6                         232.0                    232.0   \n7      2.0                          13.0                     13.0   \n8      9.9                         308.0                    308.0   \n9      3.5                          38.0                     38.0   \n10     6.6                         137.0                    137.0   \n11     2.4                          18.0                     18.0   \n12     6.8                         145.0                    145.0   \n13     0.5                           1.0                      1.0   \n14     8.2                         211.0                    211.0   \n15     9.7                         296.0                    296.0   \n16     4.5                          64.0                     64.0   \n17     9.7                         296.0                    296.0   \n18     6.3                         125.0                    125.0   \n19     0.9                           3.0                      3.0   \n\n    is_right_answer  \n0              True  \n1              True  \n2              True  \n3              True  \n4              True  \n5              True  \n6              True  \n7              True  \n8              True  \n9              True  \n10             True  \n11             True  \n12             True  \n13             True  \n14             True  \n15             True  \n16             True  \n17             True  \n18             True  \n19             True  ",
      "text/html": "<div>\n<style scoped>\n    .dataframe tbody tr th:only-of-type {\n        vertical-align: middle;\n    }\n\n    .dataframe tbody tr th {\n        vertical-align: top;\n    }\n\n    .dataframe thead th {\n        text-align: right;\n    }\n</style>\n<table border=\"1\" class=\"dataframe\">\n  <thead>\n    <tr style=\"text-align: right;\">\n      <th></th>\n      <th>radius</th>\n      <th>calculated_area_by_algorithm</th>\n      <th>calculated_area_by_site</th>\n      <th>is_right_answer</th>\n    </tr>\n  </thead>\n  <tbody>\n    <tr>\n      <th>0</th>\n      <td>6.4</td>\n      <td>129.0</td>\n      <td>129.0</td>\n      <td>True</td>\n    </tr>\n    <tr>\n      <th>1</th>\n      <td>3.0</td>\n      <td>28.0</td>\n      <td>28.0</td>\n      <td>True</td>\n    </tr>\n    <tr>\n      <th>2</th>\n      <td>8.5</td>\n      <td>227.0</td>\n      <td>227.0</td>\n      <td>True</td>\n    </tr>\n    <tr>\n      <th>3</th>\n      <td>4.9</td>\n      <td>75.0</td>\n      <td>75.0</td>\n      <td>True</td>\n    </tr>\n    <tr>\n      <th>4</th>\n      <td>4.5</td>\n      <td>64.0</td>\n      <td>64.0</td>\n      <td>True</td>\n    </tr>\n    <tr>\n      <th>5</th>\n      <td>1.6</td>\n      <td>8.0</td>\n      <td>8.0</td>\n      <td>True</td>\n    </tr>\n    <tr>\n      <th>6</th>\n      <td>8.6</td>\n      <td>232.0</td>\n      <td>232.0</td>\n      <td>True</td>\n    </tr>\n    <tr>\n      <th>7</th>\n      <td>2.0</td>\n      <td>13.0</td>\n      <td>13.0</td>\n      <td>True</td>\n    </tr>\n    <tr>\n      <th>8</th>\n      <td>9.9</td>\n      <td>308.0</td>\n      <td>308.0</td>\n      <td>True</td>\n    </tr>\n    <tr>\n      <th>9</th>\n      <td>3.5</td>\n      <td>38.0</td>\n      <td>38.0</td>\n      <td>True</td>\n    </tr>\n    <tr>\n      <th>10</th>\n      <td>6.6</td>\n      <td>137.0</td>\n      <td>137.0</td>\n      <td>True</td>\n    </tr>\n    <tr>\n      <th>11</th>\n      <td>2.4</td>\n      <td>18.0</td>\n      <td>18.0</td>\n      <td>True</td>\n    </tr>\n    <tr>\n      <th>12</th>\n      <td>6.8</td>\n      <td>145.0</td>\n      <td>145.0</td>\n      <td>True</td>\n    </tr>\n    <tr>\n      <th>13</th>\n      <td>0.5</td>\n      <td>1.0</td>\n      <td>1.0</td>\n      <td>True</td>\n    </tr>\n    <tr>\n      <th>14</th>\n      <td>8.2</td>\n      <td>211.0</td>\n      <td>211.0</td>\n      <td>True</td>\n    </tr>\n    <tr>\n      <th>15</th>\n      <td>9.7</td>\n      <td>296.0</td>\n      <td>296.0</td>\n      <td>True</td>\n    </tr>\n    <tr>\n      <th>16</th>\n      <td>4.5</td>\n      <td>64.0</td>\n      <td>64.0</td>\n      <td>True</td>\n    </tr>\n    <tr>\n      <th>17</th>\n      <td>9.7</td>\n      <td>296.0</td>\n      <td>296.0</td>\n      <td>True</td>\n    </tr>\n    <tr>\n      <th>18</th>\n      <td>6.3</td>\n      <td>125.0</td>\n      <td>125.0</td>\n      <td>True</td>\n    </tr>\n    <tr>\n      <th>19</th>\n      <td>0.9</td>\n      <td>3.0</td>\n      <td>3.0</td>\n      <td>True</td>\n    </tr>\n  </tbody>\n</table>\n</div>"
     },
     "execution_count": 4,
     "metadata": {},
     "output_type": "execute_result"
    }
   ],
   "source": [
    "driver.get(\"https://www.omnicalculator.com/math/area-of-a-circle\")\n",
    "elements = driver.find_elements(By.CLASS_NAME, 'CalculatorRow__input')\n",
    "\n",
    "results_dict = {'radius': [],\n",
    "                'calculated_area_by_algorithm': [],\n",
    "                'calculated_area_by_site': [],\n",
    "                'is_right_answer': []}\n",
    "\n",
    "for test_index in range(20):\n",
    "    radius = round(random.uniform(0.01, 10), 1)\n",
    "\n",
    "    for _ in range(5):\n",
    "        elements[0].send_keys(Keys.BACKSPACE)\n",
    "        time.sleep(0.01)\n",
    "\n",
    "    elements[0].send_keys(radius)\n",
    "\n",
    "    time.sleep(0.2)\n",
    "\n",
    "\n",
    "    circular = Circular(radius)\n",
    "\n",
    "    area_by_algorithm = round(circular.get_area(), 0)\n",
    "    area_by_site = round(float(elements[2].get_attribute('value')), 0)\n",
    "    is_right_answer = area_by_algorithm == area_by_site\n",
    "\n",
    "    results_dict['radius'].append(radius)\n",
    "    results_dict['calculated_area_by_algorithm'].append(area_by_algorithm)\n",
    "    results_dict['calculated_area_by_site'].append(area_by_site)\n",
    "    results_dict['is_right_answer'].append(is_right_answer)\n",
    "\n",
    "    print(f\"Test number {test_index+1} ==> {'Right' if is_right_answer else 'Wrong'}\")\n",
    "\n",
    "result_df = pd.DataFrame(results_dict)\n",
    "result_df"
   ],
   "metadata": {
    "collapsed": false,
    "ExecuteTime": {
     "end_time": "2024-03-09T06:37:04.400559600Z",
     "start_time": "2024-03-09T06:36:06.430900800Z"
    }
   }
  },
  {
   "cell_type": "code",
   "execution_count": 18,
   "outputs": [],
   "source": [
    "driver.get(\"https://www.omnicalculator.com/math/3-sides-triangle-area\")\n",
    "\n",
    "elements = driver.find_elements(By.CLASS_NAME, 'math-field')\n",
    "output_elements = driver.find_elements(By.CLASS_NAME, 'css-1jjfdab')"
   ],
   "metadata": {
    "collapsed": false,
    "ExecuteTime": {
     "end_time": "2024-03-09T06:47:00.578092100Z",
     "start_time": "2024-03-09T06:46:56.712495100Z"
    }
   }
  },
  {
   "cell_type": "code",
   "execution_count": 19,
   "outputs": [
    {
     "name": "stdout",
     "output_type": "stream",
     "text": [
      "---> SUM OF TWO SIDE LENGTHS HAS TO EXCEED THE LENGTH OF THE THIRD SIDE <---\n",
      "Test number 1 ==> Right\n",
      "Test number 2 ==> Right\n",
      "---> SUM OF TWO SIDE LENGTHS HAS TO EXCEED THE LENGTH OF THE THIRD SIDE <---\n",
      "Test number 3 ==> Right\n",
      "Test number 4 ==> Right\n",
      "Test number 5 ==> Right\n",
      "---> SUM OF TWO SIDE LENGTHS HAS TO EXCEED THE LENGTH OF THE THIRD SIDE <---\n",
      "Test number 6 ==> Right\n",
      "Test number 7 ==> Right\n",
      "Test number 8 ==> Right\n",
      "Test number 9 ==> Right\n",
      "---> SUM OF TWO SIDE LENGTHS HAS TO EXCEED THE LENGTH OF THE THIRD SIDE <---\n",
      "Test number 10 ==> Right\n",
      "Test number 11 ==> Right\n",
      "---> SUM OF TWO SIDE LENGTHS HAS TO EXCEED THE LENGTH OF THE THIRD SIDE <---\n",
      "Test number 12 ==> Right\n",
      "Test number 13 ==> Right\n",
      "Test number 14 ==> Right\n",
      "Test number 15 ==> Right\n",
      "---> SUM OF TWO SIDE LENGTHS HAS TO EXCEED THE LENGTH OF THE THIRD SIDE <---\n",
      "Test number 16 ==> Right\n"
     ]
    },
    {
     "ename": "KeyboardInterrupt",
     "evalue": "",
     "output_type": "error",
     "traceback": [
      "\u001B[1;31m---------------------------------------------------------------------------\u001B[0m",
      "\u001B[1;31mKeyboardInterrupt\u001B[0m                         Traceback (most recent call last)",
      "Cell \u001B[1;32mIn[19], line 16\u001B[0m\n\u001B[0;32m     13\u001B[0m     time\u001B[38;5;241m.\u001B[39msleep(\u001B[38;5;241m0.01\u001B[39m)\n\u001B[0;32m     15\u001B[0m \u001B[38;5;28;01mfor\u001B[39;00m side_index, side \u001B[38;5;129;01min\u001B[39;00m \u001B[38;5;28menumerate\u001B[39m(sides_l):\n\u001B[1;32m---> 16\u001B[0m     \u001B[43melements\u001B[49m\u001B[43m[\u001B[49m\u001B[43mside_index\u001B[49m\u001B[43m]\u001B[49m\u001B[38;5;241;43m.\u001B[39;49m\u001B[43msend_keys\u001B[49m\u001B[43m(\u001B[49m\u001B[43mside\u001B[49m\u001B[43m)\u001B[49m\n\u001B[0;32m     17\u001B[0m     time\u001B[38;5;241m.\u001B[39msleep(\u001B[38;5;241m0.01\u001B[39m)\n\u001B[0;32m     19\u001B[0m time\u001B[38;5;241m.\u001B[39msleep(\u001B[38;5;241m0.5\u001B[39m)\n",
      "File \u001B[1;32m~\\anaconda3\\lib\\site-packages\\selenium\\webdriver\\remote\\webelement.py:231\u001B[0m, in \u001B[0;36mWebElement.send_keys\u001B[1;34m(self, *value)\u001B[0m\n\u001B[0;32m    228\u001B[0m             remote_files\u001B[38;5;241m.\u001B[39mappend(\u001B[38;5;28mself\u001B[39m\u001B[38;5;241m.\u001B[39m_upload(file))\n\u001B[0;32m    229\u001B[0m         value \u001B[38;5;241m=\u001B[39m \u001B[38;5;124m\"\u001B[39m\u001B[38;5;130;01m\\n\u001B[39;00m\u001B[38;5;124m\"\u001B[39m\u001B[38;5;241m.\u001B[39mjoin(remote_files)\n\u001B[1;32m--> 231\u001B[0m \u001B[38;5;28;43mself\u001B[39;49m\u001B[38;5;241;43m.\u001B[39;49m\u001B[43m_execute\u001B[49m\u001B[43m(\u001B[49m\n\u001B[0;32m    232\u001B[0m \u001B[43m    \u001B[49m\u001B[43mCommand\u001B[49m\u001B[38;5;241;43m.\u001B[39;49m\u001B[43mSEND_KEYS_TO_ELEMENT\u001B[49m\u001B[43m,\u001B[49m\u001B[43m \u001B[49m\u001B[43m{\u001B[49m\u001B[38;5;124;43m\"\u001B[39;49m\u001B[38;5;124;43mtext\u001B[39;49m\u001B[38;5;124;43m\"\u001B[39;49m\u001B[43m:\u001B[49m\u001B[43m \u001B[49m\u001B[38;5;124;43m\"\u001B[39;49m\u001B[38;5;124;43m\"\u001B[39;49m\u001B[38;5;241;43m.\u001B[39;49m\u001B[43mjoin\u001B[49m\u001B[43m(\u001B[49m\u001B[43mkeys_to_typing\u001B[49m\u001B[43m(\u001B[49m\u001B[43mvalue\u001B[49m\u001B[43m)\u001B[49m\u001B[43m)\u001B[49m\u001B[43m,\u001B[49m\u001B[43m \u001B[49m\u001B[38;5;124;43m\"\u001B[39;49m\u001B[38;5;124;43mvalue\u001B[39;49m\u001B[38;5;124;43m\"\u001B[39;49m\u001B[43m:\u001B[49m\u001B[43m \u001B[49m\u001B[43mkeys_to_typing\u001B[49m\u001B[43m(\u001B[49m\u001B[43mvalue\u001B[49m\u001B[43m)\u001B[49m\u001B[43m}\u001B[49m\n\u001B[0;32m    233\u001B[0m \u001B[43m\u001B[49m\u001B[43m)\u001B[49m\n",
      "File \u001B[1;32m~\\anaconda3\\lib\\site-packages\\selenium\\webdriver\\remote\\webelement.py:395\u001B[0m, in \u001B[0;36mWebElement._execute\u001B[1;34m(self, command, params)\u001B[0m\n\u001B[0;32m    393\u001B[0m     params \u001B[38;5;241m=\u001B[39m {}\n\u001B[0;32m    394\u001B[0m params[\u001B[38;5;124m\"\u001B[39m\u001B[38;5;124mid\u001B[39m\u001B[38;5;124m\"\u001B[39m] \u001B[38;5;241m=\u001B[39m \u001B[38;5;28mself\u001B[39m\u001B[38;5;241m.\u001B[39m_id\n\u001B[1;32m--> 395\u001B[0m \u001B[38;5;28;01mreturn\u001B[39;00m \u001B[38;5;28;43mself\u001B[39;49m\u001B[38;5;241;43m.\u001B[39;49m\u001B[43m_parent\u001B[49m\u001B[38;5;241;43m.\u001B[39;49m\u001B[43mexecute\u001B[49m\u001B[43m(\u001B[49m\u001B[43mcommand\u001B[49m\u001B[43m,\u001B[49m\u001B[43m \u001B[49m\u001B[43mparams\u001B[49m\u001B[43m)\u001B[49m\n",
      "File \u001B[1;32m~\\anaconda3\\lib\\site-packages\\selenium\\webdriver\\remote\\webdriver.py:345\u001B[0m, in \u001B[0;36mWebDriver.execute\u001B[1;34m(self, driver_command, params)\u001B[0m\n\u001B[0;32m    342\u001B[0m     \u001B[38;5;28;01melif\u001B[39;00m \u001B[38;5;124m\"\u001B[39m\u001B[38;5;124msessionId\u001B[39m\u001B[38;5;124m\"\u001B[39m \u001B[38;5;129;01mnot\u001B[39;00m \u001B[38;5;129;01min\u001B[39;00m params:\n\u001B[0;32m    343\u001B[0m         params[\u001B[38;5;124m\"\u001B[39m\u001B[38;5;124msessionId\u001B[39m\u001B[38;5;124m\"\u001B[39m] \u001B[38;5;241m=\u001B[39m \u001B[38;5;28mself\u001B[39m\u001B[38;5;241m.\u001B[39msession_id\n\u001B[1;32m--> 345\u001B[0m response \u001B[38;5;241m=\u001B[39m \u001B[38;5;28;43mself\u001B[39;49m\u001B[38;5;241;43m.\u001B[39;49m\u001B[43mcommand_executor\u001B[49m\u001B[38;5;241;43m.\u001B[39;49m\u001B[43mexecute\u001B[49m\u001B[43m(\u001B[49m\u001B[43mdriver_command\u001B[49m\u001B[43m,\u001B[49m\u001B[43m \u001B[49m\u001B[43mparams\u001B[49m\u001B[43m)\u001B[49m\n\u001B[0;32m    346\u001B[0m \u001B[38;5;28;01mif\u001B[39;00m response:\n\u001B[0;32m    347\u001B[0m     \u001B[38;5;28mself\u001B[39m\u001B[38;5;241m.\u001B[39merror_handler\u001B[38;5;241m.\u001B[39mcheck_response(response)\n",
      "File \u001B[1;32m~\\anaconda3\\lib\\site-packages\\selenium\\webdriver\\remote\\remote_connection.py:302\u001B[0m, in \u001B[0;36mRemoteConnection.execute\u001B[1;34m(self, command, params)\u001B[0m\n\u001B[0;32m    300\u001B[0m trimmed \u001B[38;5;241m=\u001B[39m \u001B[38;5;28mself\u001B[39m\u001B[38;5;241m.\u001B[39m_trim_large_entries(params)\n\u001B[0;32m    301\u001B[0m LOGGER\u001B[38;5;241m.\u001B[39mdebug(\u001B[38;5;124m\"\u001B[39m\u001B[38;5;132;01m%s\u001B[39;00m\u001B[38;5;124m \u001B[39m\u001B[38;5;132;01m%s\u001B[39;00m\u001B[38;5;124m \u001B[39m\u001B[38;5;132;01m%s\u001B[39;00m\u001B[38;5;124m\"\u001B[39m, command_info[\u001B[38;5;241m0\u001B[39m], url, \u001B[38;5;28mstr\u001B[39m(trimmed))\n\u001B[1;32m--> 302\u001B[0m \u001B[38;5;28;01mreturn\u001B[39;00m \u001B[38;5;28;43mself\u001B[39;49m\u001B[38;5;241;43m.\u001B[39;49m\u001B[43m_request\u001B[49m\u001B[43m(\u001B[49m\u001B[43mcommand_info\u001B[49m\u001B[43m[\u001B[49m\u001B[38;5;241;43m0\u001B[39;49m\u001B[43m]\u001B[49m\u001B[43m,\u001B[49m\u001B[43m \u001B[49m\u001B[43murl\u001B[49m\u001B[43m,\u001B[49m\u001B[43m \u001B[49m\u001B[43mbody\u001B[49m\u001B[38;5;241;43m=\u001B[39;49m\u001B[43mdata\u001B[49m\u001B[43m)\u001B[49m\n",
      "File \u001B[1;32m~\\anaconda3\\lib\\site-packages\\selenium\\webdriver\\remote\\remote_connection.py:322\u001B[0m, in \u001B[0;36mRemoteConnection._request\u001B[1;34m(self, method, url, body)\u001B[0m\n\u001B[0;32m    319\u001B[0m     body \u001B[38;5;241m=\u001B[39m \u001B[38;5;28;01mNone\u001B[39;00m\n\u001B[0;32m    321\u001B[0m \u001B[38;5;28;01mif\u001B[39;00m \u001B[38;5;28mself\u001B[39m\u001B[38;5;241m.\u001B[39mkeep_alive:\n\u001B[1;32m--> 322\u001B[0m     response \u001B[38;5;241m=\u001B[39m \u001B[38;5;28;43mself\u001B[39;49m\u001B[38;5;241;43m.\u001B[39;49m\u001B[43m_conn\u001B[49m\u001B[38;5;241;43m.\u001B[39;49m\u001B[43mrequest\u001B[49m\u001B[43m(\u001B[49m\u001B[43mmethod\u001B[49m\u001B[43m,\u001B[49m\u001B[43m \u001B[49m\u001B[43murl\u001B[49m\u001B[43m,\u001B[49m\u001B[43m \u001B[49m\u001B[43mbody\u001B[49m\u001B[38;5;241;43m=\u001B[39;49m\u001B[43mbody\u001B[49m\u001B[43m,\u001B[49m\u001B[43m \u001B[49m\u001B[43mheaders\u001B[49m\u001B[38;5;241;43m=\u001B[39;49m\u001B[43mheaders\u001B[49m\u001B[43m)\u001B[49m\n\u001B[0;32m    323\u001B[0m     statuscode \u001B[38;5;241m=\u001B[39m response\u001B[38;5;241m.\u001B[39mstatus\n\u001B[0;32m    324\u001B[0m \u001B[38;5;28;01melse\u001B[39;00m:\n",
      "File \u001B[1;32m~\\anaconda3\\lib\\site-packages\\urllib3\\request.py:81\u001B[0m, in \u001B[0;36mRequestMethods.request\u001B[1;34m(self, method, url, fields, headers, **urlopen_kw)\u001B[0m\n\u001B[0;32m     77\u001B[0m     \u001B[38;5;28;01mreturn\u001B[39;00m \u001B[38;5;28mself\u001B[39m\u001B[38;5;241m.\u001B[39mrequest_encode_url(\n\u001B[0;32m     78\u001B[0m         method, url, fields\u001B[38;5;241m=\u001B[39mfields, headers\u001B[38;5;241m=\u001B[39mheaders, \u001B[38;5;241m*\u001B[39m\u001B[38;5;241m*\u001B[39murlopen_kw\n\u001B[0;32m     79\u001B[0m     )\n\u001B[0;32m     80\u001B[0m \u001B[38;5;28;01melse\u001B[39;00m:\n\u001B[1;32m---> 81\u001B[0m     \u001B[38;5;28;01mreturn\u001B[39;00m \u001B[38;5;28mself\u001B[39m\u001B[38;5;241m.\u001B[39mrequest_encode_body(\n\u001B[0;32m     82\u001B[0m         method, url, fields\u001B[38;5;241m=\u001B[39mfields, headers\u001B[38;5;241m=\u001B[39mheaders, \u001B[38;5;241m*\u001B[39m\u001B[38;5;241m*\u001B[39murlopen_kw\n\u001B[0;32m     83\u001B[0m     )\n",
      "File \u001B[1;32m~\\anaconda3\\lib\\site-packages\\urllib3\\request.py:173\u001B[0m, in \u001B[0;36mRequestMethods.request_encode_body\u001B[1;34m(self, method, url, fields, headers, encode_multipart, multipart_boundary, **urlopen_kw)\u001B[0m\n\u001B[0;32m    170\u001B[0m extra_kw[\u001B[38;5;124m\"\u001B[39m\u001B[38;5;124mheaders\u001B[39m\u001B[38;5;124m\"\u001B[39m]\u001B[38;5;241m.\u001B[39mupdate(headers)\n\u001B[0;32m    171\u001B[0m extra_kw\u001B[38;5;241m.\u001B[39mupdate(urlopen_kw)\n\u001B[1;32m--> 173\u001B[0m \u001B[38;5;28;01mreturn\u001B[39;00m \u001B[38;5;28mself\u001B[39m\u001B[38;5;241m.\u001B[39murlopen(method, url, \u001B[38;5;241m*\u001B[39m\u001B[38;5;241m*\u001B[39mextra_kw)\n",
      "File \u001B[1;32m~\\anaconda3\\lib\\site-packages\\urllib3\\poolmanager.py:376\u001B[0m, in \u001B[0;36mPoolManager.urlopen\u001B[1;34m(self, method, url, redirect, **kw)\u001B[0m\n\u001B[0;32m    374\u001B[0m     response \u001B[38;5;241m=\u001B[39m conn\u001B[38;5;241m.\u001B[39murlopen(method, url, \u001B[38;5;241m*\u001B[39m\u001B[38;5;241m*\u001B[39mkw)\n\u001B[0;32m    375\u001B[0m \u001B[38;5;28;01melse\u001B[39;00m:\n\u001B[1;32m--> 376\u001B[0m     response \u001B[38;5;241m=\u001B[39m conn\u001B[38;5;241m.\u001B[39murlopen(method, u\u001B[38;5;241m.\u001B[39mrequest_uri, \u001B[38;5;241m*\u001B[39m\u001B[38;5;241m*\u001B[39mkw)\n\u001B[0;32m    378\u001B[0m redirect_location \u001B[38;5;241m=\u001B[39m redirect \u001B[38;5;129;01mand\u001B[39;00m response\u001B[38;5;241m.\u001B[39mget_redirect_location()\n\u001B[0;32m    379\u001B[0m \u001B[38;5;28;01mif\u001B[39;00m \u001B[38;5;129;01mnot\u001B[39;00m redirect_location:\n",
      "File \u001B[1;32m~\\anaconda3\\lib\\site-packages\\urllib3\\connectionpool.py:715\u001B[0m, in \u001B[0;36mHTTPConnectionPool.urlopen\u001B[1;34m(self, method, url, body, headers, retries, redirect, assert_same_host, timeout, pool_timeout, release_conn, chunked, body_pos, **response_kw)\u001B[0m\n\u001B[0;32m    712\u001B[0m     \u001B[38;5;28mself\u001B[39m\u001B[38;5;241m.\u001B[39m_prepare_proxy(conn)\n\u001B[0;32m    714\u001B[0m \u001B[38;5;66;03m# Make the request on the httplib connection object.\u001B[39;00m\n\u001B[1;32m--> 715\u001B[0m httplib_response \u001B[38;5;241m=\u001B[39m \u001B[38;5;28;43mself\u001B[39;49m\u001B[38;5;241;43m.\u001B[39;49m\u001B[43m_make_request\u001B[49m\u001B[43m(\u001B[49m\n\u001B[0;32m    716\u001B[0m \u001B[43m    \u001B[49m\u001B[43mconn\u001B[49m\u001B[43m,\u001B[49m\n\u001B[0;32m    717\u001B[0m \u001B[43m    \u001B[49m\u001B[43mmethod\u001B[49m\u001B[43m,\u001B[49m\n\u001B[0;32m    718\u001B[0m \u001B[43m    \u001B[49m\u001B[43murl\u001B[49m\u001B[43m,\u001B[49m\n\u001B[0;32m    719\u001B[0m \u001B[43m    \u001B[49m\u001B[43mtimeout\u001B[49m\u001B[38;5;241;43m=\u001B[39;49m\u001B[43mtimeout_obj\u001B[49m\u001B[43m,\u001B[49m\n\u001B[0;32m    720\u001B[0m \u001B[43m    \u001B[49m\u001B[43mbody\u001B[49m\u001B[38;5;241;43m=\u001B[39;49m\u001B[43mbody\u001B[49m\u001B[43m,\u001B[49m\n\u001B[0;32m    721\u001B[0m \u001B[43m    \u001B[49m\u001B[43mheaders\u001B[49m\u001B[38;5;241;43m=\u001B[39;49m\u001B[43mheaders\u001B[49m\u001B[43m,\u001B[49m\n\u001B[0;32m    722\u001B[0m \u001B[43m    \u001B[49m\u001B[43mchunked\u001B[49m\u001B[38;5;241;43m=\u001B[39;49m\u001B[43mchunked\u001B[49m\u001B[43m,\u001B[49m\n\u001B[0;32m    723\u001B[0m \u001B[43m\u001B[49m\u001B[43m)\u001B[49m\n\u001B[0;32m    725\u001B[0m \u001B[38;5;66;03m# If we're going to release the connection in ``finally:``, then\u001B[39;00m\n\u001B[0;32m    726\u001B[0m \u001B[38;5;66;03m# the response doesn't need to know about the connection. Otherwise\u001B[39;00m\n\u001B[0;32m    727\u001B[0m \u001B[38;5;66;03m# it will also try to release it and we'll have a double-release\u001B[39;00m\n\u001B[0;32m    728\u001B[0m \u001B[38;5;66;03m# mess.\u001B[39;00m\n\u001B[0;32m    729\u001B[0m response_conn \u001B[38;5;241m=\u001B[39m conn \u001B[38;5;28;01mif\u001B[39;00m \u001B[38;5;129;01mnot\u001B[39;00m release_conn \u001B[38;5;28;01melse\u001B[39;00m \u001B[38;5;28;01mNone\u001B[39;00m\n",
      "File \u001B[1;32m~\\anaconda3\\lib\\site-packages\\urllib3\\connectionpool.py:467\u001B[0m, in \u001B[0;36mHTTPConnectionPool._make_request\u001B[1;34m(self, conn, method, url, timeout, chunked, **httplib_request_kw)\u001B[0m\n\u001B[0;32m    462\u001B[0m             httplib_response \u001B[38;5;241m=\u001B[39m conn\u001B[38;5;241m.\u001B[39mgetresponse()\n\u001B[0;32m    463\u001B[0m         \u001B[38;5;28;01mexcept\u001B[39;00m \u001B[38;5;167;01mBaseException\u001B[39;00m \u001B[38;5;28;01mas\u001B[39;00m e:\n\u001B[0;32m    464\u001B[0m             \u001B[38;5;66;03m# Remove the TypeError from the exception chain in\u001B[39;00m\n\u001B[0;32m    465\u001B[0m             \u001B[38;5;66;03m# Python 3 (including for exceptions like SystemExit).\u001B[39;00m\n\u001B[0;32m    466\u001B[0m             \u001B[38;5;66;03m# Otherwise it looks like a bug in the code.\u001B[39;00m\n\u001B[1;32m--> 467\u001B[0m             \u001B[43msix\u001B[49m\u001B[38;5;241;43m.\u001B[39;49m\u001B[43mraise_from\u001B[49m\u001B[43m(\u001B[49m\u001B[43me\u001B[49m\u001B[43m,\u001B[49m\u001B[43m \u001B[49m\u001B[38;5;28;43;01mNone\u001B[39;49;00m\u001B[43m)\u001B[49m\n\u001B[0;32m    468\u001B[0m \u001B[38;5;28;01mexcept\u001B[39;00m (SocketTimeout, BaseSSLError, SocketError) \u001B[38;5;28;01mas\u001B[39;00m e:\n\u001B[0;32m    469\u001B[0m     \u001B[38;5;28mself\u001B[39m\u001B[38;5;241m.\u001B[39m_raise_timeout(err\u001B[38;5;241m=\u001B[39me, url\u001B[38;5;241m=\u001B[39murl, timeout_value\u001B[38;5;241m=\u001B[39mread_timeout)\n",
      "File \u001B[1;32m<string>:3\u001B[0m, in \u001B[0;36mraise_from\u001B[1;34m(value, from_value)\u001B[0m\n",
      "File \u001B[1;32m~\\anaconda3\\lib\\site-packages\\urllib3\\connectionpool.py:462\u001B[0m, in \u001B[0;36mHTTPConnectionPool._make_request\u001B[1;34m(self, conn, method, url, timeout, chunked, **httplib_request_kw)\u001B[0m\n\u001B[0;32m    459\u001B[0m \u001B[38;5;28;01mexcept\u001B[39;00m \u001B[38;5;167;01mTypeError\u001B[39;00m:\n\u001B[0;32m    460\u001B[0m     \u001B[38;5;66;03m# Python 3\u001B[39;00m\n\u001B[0;32m    461\u001B[0m     \u001B[38;5;28;01mtry\u001B[39;00m:\n\u001B[1;32m--> 462\u001B[0m         httplib_response \u001B[38;5;241m=\u001B[39m \u001B[43mconn\u001B[49m\u001B[38;5;241;43m.\u001B[39;49m\u001B[43mgetresponse\u001B[49m\u001B[43m(\u001B[49m\u001B[43m)\u001B[49m\n\u001B[0;32m    463\u001B[0m     \u001B[38;5;28;01mexcept\u001B[39;00m \u001B[38;5;167;01mBaseException\u001B[39;00m \u001B[38;5;28;01mas\u001B[39;00m e:\n\u001B[0;32m    464\u001B[0m         \u001B[38;5;66;03m# Remove the TypeError from the exception chain in\u001B[39;00m\n\u001B[0;32m    465\u001B[0m         \u001B[38;5;66;03m# Python 3 (including for exceptions like SystemExit).\u001B[39;00m\n\u001B[0;32m    466\u001B[0m         \u001B[38;5;66;03m# Otherwise it looks like a bug in the code.\u001B[39;00m\n\u001B[0;32m    467\u001B[0m         six\u001B[38;5;241m.\u001B[39mraise_from(e, \u001B[38;5;28;01mNone\u001B[39;00m)\n",
      "File \u001B[1;32m~\\anaconda3\\lib\\http\\client.py:1377\u001B[0m, in \u001B[0;36mHTTPConnection.getresponse\u001B[1;34m(self)\u001B[0m\n\u001B[0;32m   1375\u001B[0m \u001B[38;5;28;01mtry\u001B[39;00m:\n\u001B[0;32m   1376\u001B[0m     \u001B[38;5;28;01mtry\u001B[39;00m:\n\u001B[1;32m-> 1377\u001B[0m         \u001B[43mresponse\u001B[49m\u001B[38;5;241;43m.\u001B[39;49m\u001B[43mbegin\u001B[49m\u001B[43m(\u001B[49m\u001B[43m)\u001B[49m\n\u001B[0;32m   1378\u001B[0m     \u001B[38;5;28;01mexcept\u001B[39;00m \u001B[38;5;167;01mConnectionError\u001B[39;00m:\n\u001B[0;32m   1379\u001B[0m         \u001B[38;5;28mself\u001B[39m\u001B[38;5;241m.\u001B[39mclose()\n",
      "File \u001B[1;32m~\\anaconda3\\lib\\http\\client.py:320\u001B[0m, in \u001B[0;36mHTTPResponse.begin\u001B[1;34m(self)\u001B[0m\n\u001B[0;32m    318\u001B[0m \u001B[38;5;66;03m# read until we get a non-100 response\u001B[39;00m\n\u001B[0;32m    319\u001B[0m \u001B[38;5;28;01mwhile\u001B[39;00m \u001B[38;5;28;01mTrue\u001B[39;00m:\n\u001B[1;32m--> 320\u001B[0m     version, status, reason \u001B[38;5;241m=\u001B[39m \u001B[38;5;28;43mself\u001B[39;49m\u001B[38;5;241;43m.\u001B[39;49m\u001B[43m_read_status\u001B[49m\u001B[43m(\u001B[49m\u001B[43m)\u001B[49m\n\u001B[0;32m    321\u001B[0m     \u001B[38;5;28;01mif\u001B[39;00m status \u001B[38;5;241m!=\u001B[39m CONTINUE:\n\u001B[0;32m    322\u001B[0m         \u001B[38;5;28;01mbreak\u001B[39;00m\n",
      "File \u001B[1;32m~\\anaconda3\\lib\\http\\client.py:281\u001B[0m, in \u001B[0;36mHTTPResponse._read_status\u001B[1;34m(self)\u001B[0m\n\u001B[0;32m    280\u001B[0m \u001B[38;5;28;01mdef\u001B[39;00m \u001B[38;5;21m_read_status\u001B[39m(\u001B[38;5;28mself\u001B[39m):\n\u001B[1;32m--> 281\u001B[0m     line \u001B[38;5;241m=\u001B[39m \u001B[38;5;28mstr\u001B[39m(\u001B[38;5;28;43mself\u001B[39;49m\u001B[38;5;241;43m.\u001B[39;49m\u001B[43mfp\u001B[49m\u001B[38;5;241;43m.\u001B[39;49m\u001B[43mreadline\u001B[49m\u001B[43m(\u001B[49m\u001B[43m_MAXLINE\u001B[49m\u001B[43m \u001B[49m\u001B[38;5;241;43m+\u001B[39;49m\u001B[43m \u001B[49m\u001B[38;5;241;43m1\u001B[39;49m\u001B[43m)\u001B[49m, \u001B[38;5;124m\"\u001B[39m\u001B[38;5;124miso-8859-1\u001B[39m\u001B[38;5;124m\"\u001B[39m)\n\u001B[0;32m    282\u001B[0m     \u001B[38;5;28;01mif\u001B[39;00m \u001B[38;5;28mlen\u001B[39m(line) \u001B[38;5;241m>\u001B[39m _MAXLINE:\n\u001B[0;32m    283\u001B[0m         \u001B[38;5;28;01mraise\u001B[39;00m LineTooLong(\u001B[38;5;124m\"\u001B[39m\u001B[38;5;124mstatus line\u001B[39m\u001B[38;5;124m\"\u001B[39m)\n",
      "File \u001B[1;32m~\\anaconda3\\lib\\socket.py:704\u001B[0m, in \u001B[0;36mSocketIO.readinto\u001B[1;34m(self, b)\u001B[0m\n\u001B[0;32m    702\u001B[0m \u001B[38;5;28;01mwhile\u001B[39;00m \u001B[38;5;28;01mTrue\u001B[39;00m:\n\u001B[0;32m    703\u001B[0m     \u001B[38;5;28;01mtry\u001B[39;00m:\n\u001B[1;32m--> 704\u001B[0m         \u001B[38;5;28;01mreturn\u001B[39;00m \u001B[38;5;28;43mself\u001B[39;49m\u001B[38;5;241;43m.\u001B[39;49m\u001B[43m_sock\u001B[49m\u001B[38;5;241;43m.\u001B[39;49m\u001B[43mrecv_into\u001B[49m\u001B[43m(\u001B[49m\u001B[43mb\u001B[49m\u001B[43m)\u001B[49m\n\u001B[0;32m    705\u001B[0m     \u001B[38;5;28;01mexcept\u001B[39;00m timeout:\n\u001B[0;32m    706\u001B[0m         \u001B[38;5;28mself\u001B[39m\u001B[38;5;241m.\u001B[39m_timeout_occurred \u001B[38;5;241m=\u001B[39m \u001B[38;5;28;01mTrue\u001B[39;00m\n",
      "\u001B[1;31mKeyboardInterrupt\u001B[0m: "
     ]
    }
   ],
   "source": [
    "results_dict = {'side_1': [], 'side_2': [], 'side_3': [],\n",
    "                'triangle_type': [],\n",
    "                'calculated_area_by_algorithm': [],\n",
    "                'calculated_area_by_site': [],\n",
    "                'is_right_answer': []}\n",
    "\n",
    "\n",
    "for test_index in range(30):\n",
    "    sides_l = [random.uniform(0.01, 10) for i in range(3)]\n",
    "\n",
    "    for element in elements:\n",
    "        element.clear()\n",
    "        time.sleep(0.01)\n",
    "\n",
    "    for side_index, side in enumerate(sides_l):\n",
    "        elements[side_index].send_keys(side)\n",
    "        time.sleep(0.01)\n",
    "\n",
    "    time.sleep(0.5)\n",
    "\n",
    "    right_area = output_elements[3].get_attribute('aria-label')\n",
    "    right_area = -1 if right_area == '' else right_area\n",
    "\n",
    "    triangle = Triangle(sides_l[0], sides_l[1], sides_l[2])\n",
    "\n",
    "\n",
    "    is_right_answer = True if round(float(right_area), 1) == round(triangle.get_area(), 1) else False\n",
    "\n",
    "    for i in range(3): results_dict[f'side_{i+1}'].append(sides_l[i])\n",
    "    results_dict['calculated_area_by_algorithm'].append(triangle.get_area())\n",
    "    results_dict['calculated_area_by_site'].append(-1 if right_area == '' else right_area)\n",
    "    results_dict['triangle_type'].append(triangle.get_triangle_type())\n",
    "    results_dict['is_right_answer'].append(is_right_answer)\n",
    "\n",
    "    print(f\"Test number {test_index+1} ==> {'Right' if is_right_answer else 'Wrong'}\")\n",
    "\n",
    "    #print('_'*100)"
   ],
   "metadata": {
    "collapsed": false,
    "ExecuteTime": {
     "end_time": "2024-03-09T06:47:50.012563600Z",
     "start_time": "2024-03-09T06:47:00.580081200Z"
    }
   }
  },
  {
   "cell_type": "code",
   "execution_count": 20,
   "outputs": [
    {
     "data": {
      "text/plain": "      side_1    side_2    side_3 triangle_type  calculated_area_by_algorithm  \\\n0   2.447085  5.043252  9.974061  WRONG_BROKEN                     -1.000000   \n1   6.194597  8.131656  4.978067      STANDARD                     15.400674   \n2   1.802040  9.802614  3.693351  WRONG_BROKEN                     -1.000000   \n3   3.242430  8.682203  8.898283      STANDARD                     13.975262   \n4   5.528110  4.750658  8.218460      STANDARD                     12.626934   \n5   0.217301  4.026810  1.102931  WRONG_BROKEN                     -1.000000   \n6   5.679450  9.307847  9.943361      STANDARD                     25.953455   \n7   5.288439  4.040694  3.682355      STANDARD                      7.424145   \n8   7.726235  5.312064  8.661501      STANDARD                     20.266482   \n9   8.605730  3.967376  1.981232  WRONG_BROKEN                     -1.000000   \n10  5.684683  9.019442  7.853938      STANDARD                     22.098440   \n11  9.512507  3.793803  1.841585  WRONG_BROKEN                     -1.000000   \n12  8.954296  3.151922  7.601539      STANDARD                     11.567563   \n13  3.959773  9.808570  6.333310      STANDARD                      7.425249   \n14  8.055543  4.329495  6.418753      STANDARD                     13.839833   \n15  0.269912  1.343526  8.639194  WRONG_BROKEN                     -1.000000   \n\n   calculated_area_by_site  is_right_answer  \n0                       -1             True  \n1                     15.4             True  \n2                       -1             True  \n3                   13.975             True  \n4                   12.627             True  \n5                       -1             True  \n6                   25.953             True  \n7                    7.424             True  \n8                   20.266             True  \n9                       -1             True  \n10                    22.1             True  \n11                      -1             True  \n12                  11.568             True  \n13                   7.425             True  \n14                   13.84             True  \n15                      -1             True  ",
      "text/html": "<div>\n<style scoped>\n    .dataframe tbody tr th:only-of-type {\n        vertical-align: middle;\n    }\n\n    .dataframe tbody tr th {\n        vertical-align: top;\n    }\n\n    .dataframe thead th {\n        text-align: right;\n    }\n</style>\n<table border=\"1\" class=\"dataframe\">\n  <thead>\n    <tr style=\"text-align: right;\">\n      <th></th>\n      <th>side_1</th>\n      <th>side_2</th>\n      <th>side_3</th>\n      <th>triangle_type</th>\n      <th>calculated_area_by_algorithm</th>\n      <th>calculated_area_by_site</th>\n      <th>is_right_answer</th>\n    </tr>\n  </thead>\n  <tbody>\n    <tr>\n      <th>0</th>\n      <td>2.447085</td>\n      <td>5.043252</td>\n      <td>9.974061</td>\n      <td>WRONG_BROKEN</td>\n      <td>-1.000000</td>\n      <td>-1</td>\n      <td>True</td>\n    </tr>\n    <tr>\n      <th>1</th>\n      <td>6.194597</td>\n      <td>8.131656</td>\n      <td>4.978067</td>\n      <td>STANDARD</td>\n      <td>15.400674</td>\n      <td>15.4</td>\n      <td>True</td>\n    </tr>\n    <tr>\n      <th>2</th>\n      <td>1.802040</td>\n      <td>9.802614</td>\n      <td>3.693351</td>\n      <td>WRONG_BROKEN</td>\n      <td>-1.000000</td>\n      <td>-1</td>\n      <td>True</td>\n    </tr>\n    <tr>\n      <th>3</th>\n      <td>3.242430</td>\n      <td>8.682203</td>\n      <td>8.898283</td>\n      <td>STANDARD</td>\n      <td>13.975262</td>\n      <td>13.975</td>\n      <td>True</td>\n    </tr>\n    <tr>\n      <th>4</th>\n      <td>5.528110</td>\n      <td>4.750658</td>\n      <td>8.218460</td>\n      <td>STANDARD</td>\n      <td>12.626934</td>\n      <td>12.627</td>\n      <td>True</td>\n    </tr>\n    <tr>\n      <th>5</th>\n      <td>0.217301</td>\n      <td>4.026810</td>\n      <td>1.102931</td>\n      <td>WRONG_BROKEN</td>\n      <td>-1.000000</td>\n      <td>-1</td>\n      <td>True</td>\n    </tr>\n    <tr>\n      <th>6</th>\n      <td>5.679450</td>\n      <td>9.307847</td>\n      <td>9.943361</td>\n      <td>STANDARD</td>\n      <td>25.953455</td>\n      <td>25.953</td>\n      <td>True</td>\n    </tr>\n    <tr>\n      <th>7</th>\n      <td>5.288439</td>\n      <td>4.040694</td>\n      <td>3.682355</td>\n      <td>STANDARD</td>\n      <td>7.424145</td>\n      <td>7.424</td>\n      <td>True</td>\n    </tr>\n    <tr>\n      <th>8</th>\n      <td>7.726235</td>\n      <td>5.312064</td>\n      <td>8.661501</td>\n      <td>STANDARD</td>\n      <td>20.266482</td>\n      <td>20.266</td>\n      <td>True</td>\n    </tr>\n    <tr>\n      <th>9</th>\n      <td>8.605730</td>\n      <td>3.967376</td>\n      <td>1.981232</td>\n      <td>WRONG_BROKEN</td>\n      <td>-1.000000</td>\n      <td>-1</td>\n      <td>True</td>\n    </tr>\n    <tr>\n      <th>10</th>\n      <td>5.684683</td>\n      <td>9.019442</td>\n      <td>7.853938</td>\n      <td>STANDARD</td>\n      <td>22.098440</td>\n      <td>22.1</td>\n      <td>True</td>\n    </tr>\n    <tr>\n      <th>11</th>\n      <td>9.512507</td>\n      <td>3.793803</td>\n      <td>1.841585</td>\n      <td>WRONG_BROKEN</td>\n      <td>-1.000000</td>\n      <td>-1</td>\n      <td>True</td>\n    </tr>\n    <tr>\n      <th>12</th>\n      <td>8.954296</td>\n      <td>3.151922</td>\n      <td>7.601539</td>\n      <td>STANDARD</td>\n      <td>11.567563</td>\n      <td>11.568</td>\n      <td>True</td>\n    </tr>\n    <tr>\n      <th>13</th>\n      <td>3.959773</td>\n      <td>9.808570</td>\n      <td>6.333310</td>\n      <td>STANDARD</td>\n      <td>7.425249</td>\n      <td>7.425</td>\n      <td>True</td>\n    </tr>\n    <tr>\n      <th>14</th>\n      <td>8.055543</td>\n      <td>4.329495</td>\n      <td>6.418753</td>\n      <td>STANDARD</td>\n      <td>13.839833</td>\n      <td>13.84</td>\n      <td>True</td>\n    </tr>\n    <tr>\n      <th>15</th>\n      <td>0.269912</td>\n      <td>1.343526</td>\n      <td>8.639194</td>\n      <td>WRONG_BROKEN</td>\n      <td>-1.000000</td>\n      <td>-1</td>\n      <td>True</td>\n    </tr>\n  </tbody>\n</table>\n</div>"
     },
     "execution_count": 20,
     "metadata": {},
     "output_type": "execute_result"
    }
   ],
   "source": [
    "result_df = pd.DataFrame(results_dict)\n",
    "result_df"
   ],
   "metadata": {
    "collapsed": false,
    "ExecuteTime": {
     "end_time": "2024-03-09T06:47:54.138188200Z",
     "start_time": "2024-03-09T06:47:54.115251300Z"
    }
   }
  },
  {
   "cell_type": "code",
   "execution_count": null,
   "outputs": [],
   "source": [],
   "metadata": {
    "collapsed": false
   }
  }
 ],
 "metadata": {
  "kernelspec": {
   "display_name": "Python 3",
   "language": "python",
   "name": "python3"
  },
  "language_info": {
   "codemirror_mode": {
    "name": "ipython",
    "version": 2
   },
   "file_extension": ".py",
   "mimetype": "text/x-python",
   "name": "python",
   "nbconvert_exporter": "python",
   "pygments_lexer": "ipython2",
   "version": "2.7.6"
  }
 },
 "nbformat": 4,
 "nbformat_minor": 0
}
